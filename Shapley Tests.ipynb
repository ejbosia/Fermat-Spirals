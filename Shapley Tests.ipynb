{
 "cells": [
  {
   "cell_type": "code",
   "execution_count": null,
   "metadata": {},
   "outputs": [],
   "source": [
    "from shapely.geometry import Point\n",
    "from shapely.geometry import Polygon\n",
    "from shapely.geometry import LineString\n",
    "from shapely.geometry import LinearRing\n",
    "from shapely.geometry import CAP_STYLE, JOIN_STYLE\n",
    "\n",
    "\n",
    "import itertools\n",
    "\n",
    "import matplotlib.pyplot as plt\n",
    "import numpy as np\n",
    "import cv2\n",
    "\n",
    "from numba import jit\n",
    "\n",
    "%reload_ext autoreload\n",
    "%autoreload 2"
   ]
  },
  {
   "cell_type": "code",
   "execution_count": null,
   "metadata": {},
   "outputs": [],
   "source": [
    "def point_dis(p1,p2):\n",
    "    \n",
    "    dx = p2.x-p1.x\n",
    "    dy = p2.y-p1.y\n",
    "    \n",
    "    return np.sqrt(dx*dx+dy*dy)"
   ]
  },
  {
   "cell_type": "code",
   "execution_count": null,
   "metadata": {},
   "outputs": [],
   "source": [
    "def plot_ring(lr):\n",
    "    \n",
    "    X = []\n",
    "    Y = []\n",
    "    \n",
    "    for p in list(lr.coords):\n",
    "        X.append(p[0])\n",
    "        Y.append(p[1])\n",
    "        \n",
    "    plt.plot(X,Y)"
   ]
  },
  {
   "cell_type": "code",
   "execution_count": null,
   "metadata": {},
   "outputs": [],
   "source": [
    "lr1 = LinearRing(\n",
    "    [\n",
    "        (0,0),\n",
    "        (0, 10),\n",
    "        (10,10),\n",
    "        (10,0)\n",
    "    ]\n",
    ")\n",
    "\n",
    "lr2 = LinearRing(\n",
    "    [\n",
    "        (6,3),\n",
    "        (3,6),\n",
    "        (6,6),\n",
    "    ]\n",
    ")\n",
    "\n",
    "lr3 = LinearRing(\n",
    "    [\n",
    "        (0,0),\n",
    "        (2,5),\n",
    "        (0, 10),\n",
    "        (10,10),\n",
    "        (6,4),\n",
    "        (10,0)\n",
    "    ]\n",
    ")\n",
    "\n",
    "plot_ring(lr1)\n",
    "plot_ring(lr2)\n",
    "plot_ring(lr3)"
   ]
  },
  {
   "cell_type": "code",
   "execution_count": null,
   "metadata": {},
   "outputs": [],
   "source": [
    "lr1 = Polygon(\n",
    "    [\n",
    "        (0,0),\n",
    "        (0, 10),\n",
    "        (10,10),\n",
    "        (10,0)\n",
    "    ], holes = [[(3,3),(3,7),(7,7),(7,3)]]\n",
    ")\n",
    "lr1"
   ]
  },
  {
   "cell_type": "code",
   "execution_count": null,
   "metadata": {},
   "outputs": [],
   "source": [
    "from shapely_utilities import distance_transform_diff"
   ]
  },
  {
   "cell_type": "code",
   "execution_count": null,
   "metadata": {},
   "outputs": [],
   "source": [
    "t = lr1.exterior.buffer(3, cap_style = CAP_STYLE.flat, join_style = JOIN_STYLE.mitre)\n",
    "\n",
    "lr1.difference(t).is_empty"
   ]
  },
  {
   "cell_type": "code",
   "execution_count": null,
   "metadata": {},
   "outputs": [],
   "source": [
    "lr1"
   ]
  },
  {
   "cell_type": "code",
   "execution_count": null,
   "metadata": {},
   "outputs": [],
   "source": [
    "x = distance_transform_diff(lr1, 0.5)"
   ]
  },
  {
   "cell_type": "code",
   "execution_count": null,
   "metadata": {},
   "outputs": [],
   "source": [
    "for poly in x:\n",
    "    plot_ring(poly)"
   ]
  },
  {
   "cell_type": "code",
   "execution_count": null,
   "metadata": {},
   "outputs": [],
   "source": [
    "lr1.difference(lr1.exterior.buffer(2)).exterior"
   ]
  },
  {
   "cell_type": "code",
   "execution_count": null,
   "metadata": {},
   "outputs": [],
   "source": [
    "%load_ext autoreload\n",
    "%autoreload 2"
   ]
  },
  {
   "cell_type": "code",
   "execution_count": null,
   "metadata": {},
   "outputs": [],
   "source": [
    "@jit(nopython=True)\n",
    "def distance(p0,p1):\n",
    "    return np.sqrt((p0[0]-p1[0])**2+(p0[1]-p1[1])**2)\n",
    "\n",
    "@jit(nopython=True)\n",
    "def distance_numba(ls):\n",
    "    \n",
    "    point = ls[0]\n",
    "    \n",
    "    for i in range(len(ls)):\n",
    "        \n",
    "        print(distance(point, ls[i]))\n",
    "        \n",
    "        \n",
    "distance_numba(np.array(list(lr1.coords)))\n",
    "    \n",
    "    \n",
    "    "
   ]
  },
  {
   "cell_type": "code",
   "execution_count": null,
   "metadata": {},
   "outputs": [],
   "source": [
    "# create a nasty linestring (start and end intersections)\n",
    "import shapely_utilities as SU\n",
    "\n",
    "start = [\n",
    "        (0,0),\n",
    "        (7,5),\n",
    "        (0, 10),\n",
    "        (10,10),\n",
    "        (3,5),\n",
    "        (10,0)\n",
    "    ]\n",
    "\n",
    "middle = [(x,0) for x in range(11,1000)]\n",
    "\n",
    "end = [\n",
    "        (1000,0),\n",
    "        (1007,5),\n",
    "        (1000, 10),\n",
    "        (1010,10),\n",
    "        (1003,5),\n",
    "        (1010,0)\n",
    "    ]\n",
    "\n",
    "ls = LineString(start+middle+end)\n",
    "\n",
    "\n",
    "\n",
    "\n",
    "%timeit -n 3 SU.self_intersections(ls)\n",
    "\n",
    "%timeit -n 3 SU.self_intersections_binary(ls)\n",
    "\n",
    "\n",
    "\n",
    "i1 = SU.self_intersections(ls)\n",
    "i2 = SU.self_intersections_binary(ls)\n",
    "\n",
    "\n",
    "plot_ring(ls)\n",
    "for i in i1:\n",
    "    plt.scatter(i.x,i.y)\n",
    "plt.show()\n",
    "    \n",
    "plot_ring(ls)\n",
    "for i in i2:\n",
    "    plt.scatter(i.x,i.y)\n",
    "plt.show()"
   ]
  },
  {
   "cell_type": "code",
   "execution_count": null,
   "metadata": {},
   "outputs": [],
   "source": [
    "# evenly sample the linestring\n",
    "def sample(ls, distance):\n",
    "    \n",
    "    pos = 0\n",
    "    \n",
    "    points = []\n",
    "    \n",
    "    while pos < ls.length:\n",
    "        points.append(ls.interpolate(pos))\n",
    "        \n",
    "        pos += distance\n",
    "        \n",
    "    return points   \n",
    "        \n",
    "        \n",
    "# get the curvature between 3 points\n",
    "def curvature(p0,p1,p2):\n",
    "    \n",
    "    # side lengths\n",
    "    A = p0.distance(p1)\n",
    "    B = p0.distance(p2)\n",
    "    C = p1.distance(p2)\n",
    "    \n",
    "    \n",
    "    if A == 0 or B == 0 or C == 0:\n",
    "        return 0\n",
    "    \n",
    "    \n",
    "    # area of triange\n",
    "    area = abs(0.5 * (p0.x*(p1.y-p2.y) + p1.x*(p2.y-p0.y) + p2.x*(p0.y-p1.y)))\n",
    "    \n",
    "    return (4*area)/(A*B*C)\n",
    "    \n",
    "# get the next vertex index in the linestring from a given point \"p\"\n",
    "def get_next_index(ls, p):\n",
    "    \n",
    "    dis = ls.project(p)\n",
    "    \n",
    "    coords = [Point(p) for p in ls.coords]\n",
    "    \n",
    "    for i,p in enumerate(coords):\n",
    "        if ls.project(p) > dis:\n",
    "            return i\n",
    "            \n",
    "    return len(coords)-1"
   ]
  },
  {
   "cell_type": "code",
   "execution_count": null,
   "metadata": {},
   "outputs": [],
   "source": [
    "result = SU.sample(lr3, 0.5)\n",
    "\n",
    "plot_ring(lr3)\n",
    "\n",
    "for p in result.coords:\n",
    "    plt.scatter(p[0],p[1])\n",
    "    \n",
    "\n",
    "\n",
    "# for p in [p0,p1,p2]:\n",
    "#     plt.scatter(p.x,p.y)"
   ]
  },
  {
   "cell_type": "code",
   "execution_count": null,
   "metadata": {},
   "outputs": [],
   "source": [
    "# test \"adaptive sampling\" using simplify\n",
    "\n",
    "ls = LineString(result)\n",
    "\n",
    "simplified = ls.simplify(0.01)\n",
    "\n",
    "for p in simplified.coords:\n",
    "    plt.scatter(p[0],p[1])"
   ]
  },
  {
   "cell_type": "code",
   "execution_count": null,
   "metadata": {},
   "outputs": [],
   "source": [
    "\n",
    "points = lr3.coords[:-1]\n",
    "\n",
    "curvatures = []\n",
    "\n",
    "for i in range(0, len(points)):\n",
    "        \n",
    "    p0 = Point(points[i-1])\n",
    "    p1 = Point(points[i])\n",
    "    p2 = Point(points[i+1 if i+1 < len(points) else 0])\n",
    "    \n",
    "    curvatures.append(curvature(p0,p1,p2))\n",
    "    \n",
    "    print(p1,curvatures[i])\n",
    "        \n",
    "plot_ring(lr3)"
   ]
  },
  {
   "cell_type": "code",
   "execution_count": null,
   "metadata": {},
   "outputs": [],
   "source": [
    "\n",
    "p0 = Point((1,0))\n",
    "p1 = Point((0,0))\n",
    "p2 = Point((1,1))\n",
    "p3 = Point((1,0.000001))\n",
    "\n",
    "curvature(p0,p1,p2)"
   ]
  },
  {
   "cell_type": "code",
   "execution_count": null,
   "metadata": {},
   "outputs": [],
   "source": [
    "import math\n",
    "\n",
    "\n",
    "curves = []\n",
    "\n",
    "# move p3 around half a unit circle\n",
    "for i in range(181):\n",
    "     \n",
    "    rad = math.radians(i)\n",
    "    \n",
    "    p3 = Point((np.cos(rad), np.sin(rad)))\n",
    "\n",
    "    curves.append(curvature(p0,p1,p3))\n",
    "    \n",
    "\n",
    "plt.plot(curves)"
   ]
  },
  {
   "cell_type": "code",
   "execution_count": null,
   "metadata": {},
   "outputs": [],
   "source": [
    "p0 = Point((10,0))\n",
    "p1 = Point((0,0))\n",
    "p2 = Point((10,10))\n",
    "\n",
    "curvature(p0,p1,p2)"
   ]
  },
  {
   "cell_type": "code",
   "execution_count": null,
   "metadata": {},
   "outputs": [],
   "source": [
    "p0 = Point((0,0))\n",
    "p1 = Point((1,1))\n",
    "p0.angle(p1)"
   ]
  },
  {
   "cell_type": "code",
   "execution_count": null,
   "metadata": {},
   "outputs": [],
   "source": [
    "ls = LineString(list(lr2.coords)[0:])\n",
    "print(ls)\n",
    "\n",
    "plot_ring(lr2)\n",
    "plot_ring(ls.buffer(0.1, join_style = 2, cap_style=2).interiors[0])\n",
    "plot_ring(ls.buffer(0.2, join_style = 2, cap_style=2).interiors[0])\n",
    "\n",
    "plt.scatter(lr2.coords[0][0],lr2.coords[0][1])\n",
    "plt.scatter(lr2.coords[2][0],lr2.coords[2][1])\n",
    "\n",
    "plot_ring(lr2.buffer(0.1).interiors[0])"
   ]
  },
  {
   "cell_type": "code",
   "execution_count": null,
   "metadata": {},
   "outputs": [],
   "source": [
    "lr2.buffer(0.2)"
   ]
  },
  {
   "cell_type": "code",
   "execution_count": null,
   "metadata": {},
   "outputs": [],
   "source": [
    "Point(0,0).buffer(1).exterior"
   ]
  },
  {
   "cell_type": "code",
   "execution_count": null,
   "metadata": {},
   "outputs": [],
   "source": [
    "x = LineString([(1,1),(4,5)])"
   ]
  },
  {
   "cell_type": "code",
   "execution_count": null,
   "metadata": {},
   "outputs": [],
   "source": [
    "def extend_linestring(line, dis=10):\n",
    "    \n",
    "    p1 = line.coords[0]\n",
    "    p2 = line.coords[1]\n",
    "\n",
    "    dx = p2[0]-p1[0]\n",
    "    dy = p2[1]-p1[1]\n",
    "    \n",
    "    angle = np.arctan2(dy,dx)\n",
    "    \n",
    "    px = np.cos(angle)*dis + p2[0]\n",
    "    py = np.sin(angle)*dis + p2[1]\n",
    "    \n",
    "    return LineString((line.coords[0], (px,py)))"
   ]
  },
  {
   "cell_type": "code",
   "execution_count": null,
   "metadata": {},
   "outputs": [],
   "source": [
    "print(extend_linestring(x).intersection(lr1))\n",
    "\n",
    "plot_ring(extend_linestring(x))\n",
    "plot_ring(x)\n",
    "pblot_ring(lr1)"
   ]
  },
  {
   "cell_type": "code",
   "execution_count": null,
   "metadata": {},
   "outputs": [],
   "source": [
    "print(Polygon(lr1).exterior)"
   ]
  },
  {
   "cell_type": "code",
   "execution_count": null,
   "metadata": {},
   "outputs": [],
   "source": [
    "def reverse(lr):\n",
    "    \n",
    "    return LinearRing(list(lr.coords)[::-1])\n",
    "    \n",
    "    \n",
    "a    "
   ]
  },
  {
   "cell_type": "code",
   "execution_count": null,
   "metadata": {},
   "outputs": [],
   "source": [
    "test_pt = Point(6,6)\n",
    "\n",
    "dis = lr3.project(test_pt)\n",
    "\n",
    "\n",
    "print(dis)\n",
    "\n",
    "point = lr3.interpolate(dis)\n",
    "\n",
    "plt.scatter(test_pt.x, test_pt.y)\n",
    "plt.scatter(point.x, point.y)\n",
    "plot_ring(lr3)"
   ]
  },
  {
   "cell_type": "code",
   "execution_count": null,
   "metadata": {},
   "outputs": [],
   "source": [
    "test_pt = Point(3,6)\n",
    "\n",
    "dis = lr3.project(test_pt)\n",
    "\n",
    "\n",
    "print(dis)\n",
    "\n",
    "point = lr3.interpolate(dis)\n",
    "\n",
    "plt.scatter(test_pt.x, test_pt.y)\n",
    "plt.scatter(point.x, point.y)\n",
    "plot_ring(lr3)\n",
    "\n",
    "\n",
    "print(point.distance(test_pt))\n",
    "\n",
    "print(test_pt.distance(Point(2,5)))"
   ]
  },
  {
   "cell_type": "code",
   "execution_count": null,
   "metadata": {},
   "outputs": [],
   "source": [
    "test_pt = Point(2,1)\n",
    "\n",
    "rr1 = reverse(lr1)\n",
    "\n",
    "dis = rr1.project(test_pt)\n",
    "\n",
    "\n",
    "print(dis)\n",
    "\n",
    "point = rr1.interpolate(dis)\n",
    "\n",
    "plt.scatter(test_pt.x, test_pt.y)\n",
    "plt.scatter(point.x, point.y)\n",
    "plot_ring(rr1)\n",
    "\n",
    "print(point_dis(test_pt, point))"
   ]
  },
  {
   "cell_type": "code",
   "execution_count": null,
   "metadata": {},
   "outputs": [],
   "source": [
    "image = cv2.imread('area_test.png',0)\n",
    "plt.imshow(image)\n",
    "\n",
    "image = image[::1,:]\n",
    "\n",
    "\n",
    "filename = \"Area_test.gcode\"\n",
    "\n",
    "line_dis = 5 # mm"
   ]
  },
  {
   "cell_type": "code",
   "execution_count": null,
   "metadata": {},
   "outputs": [],
   "source": [
    "# return a list of lists of lines\n",
    "def generate_border_lines(image):\n",
    "\n",
    "    contours,heirarchy = cv2.findContours(image, cv2.RETR_CCOMP, cv2.CHAIN_APPROX_SIMPLE)  \n",
    "\n",
    "    contour_list = []\n",
    "\n",
    "    for contour,heirarchy in zip(contours, heirarchy[0]):\n",
    "        point_list = []\n",
    "        pt0 = None\n",
    "        for point in contour:\n",
    "            point_list.append(tuple(point[0]))\n",
    "            \n",
    "        contour_list.append((point_list, heirarchy))\n",
    "\n",
    "    return contour_list"
   ]
  },
  {
   "cell_type": "code",
   "execution_count": null,
   "metadata": {},
   "outputs": [],
   "source": [
    "# get all of the children of the parent contour\n",
    "def get_children(contour_list, parent_contour):\n",
    "\n",
    "    child_list = []\n",
    "\n",
    "    first_child_index = parent_contour[1][2]\n",
    "    child = contour_list[first_child_index]\n",
    "    child_list.append(child[0])\n",
    "\n",
    "\n",
    "    # loop while there are more children\n",
    "    while not child[1][0] == -1:\n",
    "        next_child_index = child[1][0]\n",
    "        child = contour_list[next_child_index]\n",
    "        child_list.append(child[0])\n",
    "    \n",
    "    # return the list of children\n",
    "    return child_list"
   ]
  },
  {
   "cell_type": "code",
   "execution_count": null,
   "metadata": {},
   "outputs": [],
   "source": [
    "# combine contours into single level parent-children relationships\n",
    "def create_contour_families(contour_list):\n",
    "\n",
    "    family_list = []\n",
    "\n",
    "    # find the first parent contour\n",
    "    for contour in contour_list:\n",
    "        \n",
    "        # start with a parent contour\n",
    "        if contour[1][3]==-1:\n",
    "\n",
    "            # if there are no children, create an empty family with only the parent contour\n",
    "            if contour[1][2] == -1:\n",
    "                child_list = []\n",
    "            # otherwise, find all of the children\n",
    "            else:\n",
    "                child_list = get_children(contour_list, contour)\n",
    "\n",
    "            if len(contour[0]) > 2:\n",
    "                family_list.append(Polygon(contour[0], holes=child_list))\n",
    "\n",
    "    return family_list"
   ]
  },
  {
   "cell_type": "code",
   "execution_count": null,
   "metadata": {},
   "outputs": [],
   "source": [
    "def distance_transform(polygon, distance):\n",
    "        \n",
    "    t = polygon.buffer(distance)\n",
    "    \n",
    "    # if t is empty, return the empty list\n",
    "    if not t:\n",
    "        return []\n",
    "        \n",
    "    result = []\n",
    "\n",
    "    if t.type == \"MultiPolygon\":\n",
    "        for p in t:\n",
    "            result.append([p])\n",
    "            result[-1].extend(distance_transform(p, distance))\n",
    "    else:\n",
    "        result.append(t)\n",
    "        result.extend(distance_transform(t, distance))\n",
    "        \n",
    "        \n",
    "    return result"
   ]
  },
  {
   "cell_type": "code",
   "execution_count": null,
   "metadata": {},
   "outputs": [],
   "source": [
    "\n",
    "polygon = generate_border_lines(image)\n",
    "print(polygon[0])\n",
    "\n",
    "result = distance_transform(polygon[0],0.3)\n",
    "\n",
    "\n"
   ]
  }
 ],
 "metadata": {
  "kernelspec": {
   "display_name": "Python 3",
   "language": "python",
   "name": "python3"
  },
  "language_info": {
   "codemirror_mode": {
    "name": "ipython",
    "version": 3
   },
   "file_extension": ".py",
   "mimetype": "text/x-python",
   "name": "python",
   "nbconvert_exporter": "python",
   "pygments_lexer": "ipython3",
   "version": "3.8.5"
  }
 },
 "nbformat": 4,
 "nbformat_minor": 4
}
