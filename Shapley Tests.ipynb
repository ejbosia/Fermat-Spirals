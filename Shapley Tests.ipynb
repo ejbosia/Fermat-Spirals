{
 "cells": [
  {
   "cell_type": "code",
   "execution_count": 1,
   "metadata": {},
   "outputs": [],
   "source": [
    "from shapely.geometry import Point\n",
    "from shapely.geometry import Polygon\n",
    "from shapely.geometry import LineString\n",
    "from shapely.geometry import LinearRing\n",
    "\n",
    "import itertools\n",
    "\n",
    "import matplotlib.pyplot as plt\n",
    "import numpy as np\n",
    "import cv2"
   ]
  },
  {
   "cell_type": "code",
   "execution_count": 2,
   "metadata": {},
   "outputs": [],
   "source": [
    "def point_dis(p1,p2):\n",
    "    \n",
    "    dx = p2.x-p1.x\n",
    "    dy = p2.y-p1.y\n",
    "    \n",
    "    return np.sqrt(dx*dx+dy*dy)"
   ]
  },
  {
   "cell_type": "code",
   "execution_count": 3,
   "metadata": {},
   "outputs": [],
   "source": [
    "def plot_ring(lr):\n",
    "    \n",
    "    X = []\n",
    "    Y = []\n",
    "    \n",
    "    for p in list(lr.coords):\n",
    "        X.append(p[0])\n",
    "        Y.append(p[1])\n",
    "        \n",
    "    plt.plot(X,Y)"
   ]
  },
  {
   "cell_type": "code",
   "execution_count": 4,
   "metadata": {
    "scrolled": true
   },
   "outputs": [
    {
     "data": {
      "image/png": "[encoded data removed]",
      "text/plain": [
       "<Figure size 432x288 with 1 Axes>"
      ]
     },
     "metadata": {
      "needs_background": "light"
     },
     "output_type": "display_data"
    }
   ],
   "source": [
    "lr1 = LinearRing(\n",
    "    [\n",
    "        (0,0),\n",
    "        (0, 10),\n",
    "        (10,10),\n",
    "        (10,0)\n",
    "    ]\n",
    ")\n",
    "\n",
    "lr2 = LinearRing(\n",
    "    [\n",
    "        (6,3),\n",
    "        (3,6),\n",
    "        (6,6),\n",
    "    ]\n",
    ")\n",
    "\n",
    "lr3 = LinearRing(\n",
    "    [\n",
    "        (0,0),\n",
    "        (2,5),\n",
    "        (0, 10),\n",
    "        (10,10),\n",
    "        (6,4),\n",
    "        (10,0)\n",
    "    ]\n",
    ")\n",
    "\n",
    "plot_ring(lr1)\n",
    "plot_ring(lr2)\n",
    "plot_ring(lr3)"
   ]
  },
  {
   "cell_type": "code",
   "execution_count": 24,
   "metadata": {
    "scrolled": false
   },
   "outputs": [
    {
     "data": {
      "text/plain": [
       "[<shapely.geometry.point.Point at 0x7f8f1c5ac880>,\n",
       " <shapely.geometry.point.Point at 0x7f8f1c346e20>]"
      ]
     },
     "execution_count": 24,
     "metadata": {},
     "output_type": "execute_result"
    },
    {
     "data": {
      "image/png": "[encoded data removed]",
      "text/plain": [
       "<Figure size 432x288 with 1 Axes>"
      ]
     },
     "metadata": {
      "needs_background": "light"
     },
     "output_type": "display_data"
    }
   ],
   "source": [
    "lr4 = LineString(\n",
    "    [\n",
    "        (0,0),\n",
    "        (7,5),\n",
    "        (0, 10),\n",
    "        (10,10),\n",
    "        (3,5),\n",
    "        (10,0)\n",
    "    ]\n",
    ")\n",
    "\n",
    "plot_ring(lr4)\n",
    "self_intersections(lr4)"
   ]
  },
  {
   "cell_type": "code",
   "execution_count": 23,
   "metadata": {},
   "outputs": [],
   "source": [
    "def self_intersections(ls):\n",
    "    \n",
    "    \n",
    "    intersection_points = []\n",
    "    \n",
    "    for i in range(len(ls.coords)-3):\n",
    "        \n",
    "        p0 = ls.coords[i]\n",
    "        p1 = ls.coords[i+1]\n",
    "    \n",
    "        remaining_path = LineString(ls.coords[i+2:])\n",
    "        test = LineString([p0,p1])\n",
    "        \n",
    "        \n",
    "        \n",
    "        # check for intersection only with the linestring coords 2 past the start (the next line cannot intersect with the current line)\n",
    "        if test.intersects(remaining_path):\n",
    "            \n",
    "            # calculate intersection(s)\n",
    "            intersections = test.intersection(remaining_path)\n",
    "            \n",
    "            if intersections.type == \"Point\":\n",
    "                plt.scatter(intersections.x,intersections.y,c='green')\n",
    "                intersection_points.append(intersections)\n",
    "            else:\n",
    "                for p in intersections:\n",
    "                    plt.scatter(p.x,p.y,c='blue')\n",
    "                    intersection_points.append(p)\n",
    "\n",
    "    return intersection_points\n",
    "            \n",
    "        "
   ]
  },
  {
   "cell_type": "code",
   "execution_count": null,
   "metadata": {},
   "outputs": [],
   "source": []
  },
  {
   "cell_type": "code",
   "execution_count": 22,
   "metadata": {},
   "outputs": [],
   "source": [
    "# evenly sample the linestring\n",
    "def sample(ls, distance):\n",
    "    \n",
    "    pos = 0\n",
    "    \n",
    "    points = []\n",
    "    \n",
    "    while pos < ls.length:\n",
    "        points.append(ls.interpolate(pos))\n",
    "        \n",
    "        pos += distance\n",
    "        \n",
    "    return points   \n",
    "        \n",
    "        \n",
    "# get the curvature between 3 points\n",
    "def curvature(p0,p1,p2):\n",
    "    \n",
    "    # side lengths\n",
    "    A = p0.distance(p1)\n",
    "    B = p0.distance(p2)\n",
    "    C = p1.distance(p2)\n",
    "    \n",
    "    \n",
    "    # calculate the angle at p1\n",
    "    a10 = np.arctan2((p0.y-p1.y), (p0.x-p1.x))\n",
    "    a12 = np.arctan2((p2.y-p1.y), (p2.x-p1.x))\n",
    "    \n",
    "    alpha = a12-a10\n",
    "    \n",
    "    # area of triange\n",
    "    area = 0.5 * A*C*np.sin(alpha)\n",
    "    \n",
    "    return A*B*C/(4*area)\n",
    "    \n",
    "# get the next vertex index in the linestring from a given point \"p\"\n",
    "def get_next_index(ls, p):\n",
    "    \n",
    "    dis = ls.project(p)\n",
    "    \n",
    "    coords = [Point(p) for p in ls.coords]\n",
    "    \n",
    "    for i,p in enumerate(coords):\n",
    "        if ls.project(p) > dis:\n",
    "            return i\n",
    "            \n",
    "    return len(coords)-1"
   ]
  },
  {
   "cell_type": "code",
   "execution_count": 25,
   "metadata": {
    "scrolled": true
   },
   "outputs": [
    {
     "data": {
      "image/png": "[encoded data removed]",
      "text/plain": [
       "<Figure size 432x288 with 1 Axes>"
      ]
     },
     "metadata": {
      "needs_background": "light"
     },
     "output_type": "display_data"
    }
   ],
   "source": [
    "result = sample(lr2, 4)\n",
    "\n",
    "\n",
    "\n",
    "\n",
    "ni = get_next_index(lr1, result[1])\n",
    "\n",
    "p0 = Point(lr1.coords[ni])\n",
    "p2 = Point(lr1.coords[ni+1])\n",
    "p1 = result[1]\n",
    "\n",
    "plot_ring(lr1)\n",
    "\n",
    "for p in [p0,p1,p2]:\n",
    "    plt.scatter(p.x,p.y)"
   ]
  },
  {
   "cell_type": "code",
   "execution_count": 36,
   "metadata": {
    "scrolled": true
   },
   "outputs": [
    {
     "name": "stdout",
     "output_type": "stream",
     "text": [
      "POINT (0 0) 5.080354318352214\n",
      "POINT (2 5) -7.250000000000001\n",
      "POINT (0 10) 5.080354318352215\n",
      "POINT (10 10) 5.099019513592781\n",
      "POINT (6 4) -5.0990195135927845\n",
      "POINT (10 0) 5.099019513592785\n"
     ]
    },
    {
     "data": {
      "image/png": "[encoded data removed]",
      "text/plain": [
       "<Figure size 432x288 with 1 Axes>"
      ]
     },
     "metadata": {
      "needs_background": "light"
     },
     "output_type": "display_data"
    }
   ],
   "source": [
    "\n",
    "points = lr3.coords[:-1]\n",
    "\n",
    "curvatures = []\n",
    "\n",
    "for i in range(0, len(points)):\n",
    "        \n",
    "    p0 = Point(points[i-1])\n",
    "    p1 = Point(points[i])\n",
    "    p2 = Point(points[i+1 if i+1 < len(points) else 0])\n",
    "    \n",
    "    curvatures.append(curvature(p0,p1,p2))\n",
    "    \n",
    "    print(p1,curvatures[i])\n",
    "        \n",
    "plot_ring(lr3)"
   ]
  },
  {
   "cell_type": "code",
   "execution_count": 21,
   "metadata": {},
   "outputs": [
    {
     "ename": "AttributeError",
     "evalue": "'Point' object has no attribute 'angle'",
     "output_type": "error",
     "traceback": [
      "\u001b[0;31m---------------------------------------------------------------------------\u001b[0m",
      "\u001b[0;31mAttributeError\u001b[0m                            Traceback (most recent call last)",
      "\u001b[0;32m<ipython-input-21-b3f43ee53cd3>\u001b[0m in \u001b[0;36m<module>\u001b[0;34m\u001b[0m\n\u001b[1;32m      1\u001b[0m \u001b[0mp0\u001b[0m \u001b[0;34m=\u001b[0m \u001b[0mPoint\u001b[0m\u001b[0;34m(\u001b[0m\u001b[0;34m(\u001b[0m\u001b[0;36m0\u001b[0m\u001b[0;34m,\u001b[0m\u001b[0;36m0\u001b[0m\u001b[0;34m)\u001b[0m\u001b[0;34m)\u001b[0m\u001b[0;34m\u001b[0m\u001b[0;34m\u001b[0m\u001b[0m\n\u001b[1;32m      2\u001b[0m \u001b[0mp1\u001b[0m \u001b[0;34m=\u001b[0m \u001b[0mPoint\u001b[0m\u001b[0;34m(\u001b[0m\u001b[0;34m(\u001b[0m\u001b[0;36m1\u001b[0m\u001b[0;34m,\u001b[0m\u001b[0;36m1\u001b[0m\u001b[0;34m)\u001b[0m\u001b[0;34m)\u001b[0m\u001b[0;34m\u001b[0m\u001b[0;34m\u001b[0m\u001b[0m\n\u001b[0;32m----> 3\u001b[0;31m \u001b[0mp0\u001b[0m\u001b[0;34m.\u001b[0m\u001b[0mangle\u001b[0m\u001b[0;34m(\u001b[0m\u001b[0mp1\u001b[0m\u001b[0;34m)\u001b[0m\u001b[0;34m\u001b[0m\u001b[0;34m\u001b[0m\u001b[0m\n\u001b[0m",
      "\u001b[0;31mAttributeError\u001b[0m: 'Point' object has no attribute 'angle'"
     ]
    }
   ],
   "source": [
    "p0 = Point((0,0))\n",
    "p1 = Point((1,1))\n",
    "p0.angle(p1)"
   ]
  },
  {
   "cell_type": "code",
   "execution_count": 34,
   "metadata": {
    "scrolled": false
   },
   "outputs": [
    {
     "name": "stdout",
     "output_type": "stream",
     "text": [
      "LINESTRING (6 3, 3 6, 6 6, 6 3)\n"
     ]
    },
    {
     "data": {
      "image/png": "[encoded data removed]",
      "text/plain": [
       "<Figure size 432x288 with 1 Axes>"
      ]
     },
     "metadata": {
      "needs_background": "light"
     },
     "output_type": "display_data"
    }
   ],
   "source": [
    "ls = LineString(list(lr2.coords)[0:])\n",
    "print(ls)\n",
    "\n",
    "plot_ring(lr2)\n",
    "plot_ring(ls.buffer(0.1, join_style = 2, cap_style=2).interiors[0])\n",
    "plot_ring(ls.buffer(0.2, join_style = 2, cap_style=2).interiors[0])\n",
    "\n",
    "plt.scatter(lr2.coords[0][0],lr2.coords[0][1])\n",
    "plt.scatter(lr2.coords[2][0],lr2.coords[2][1])\n",
    "\n",
    "plot_ring(lr2.buffer(0.1).interiors[0])"
   ]
  },
  {
   "cell_type": "code",
   "execution_count": 23,
   "metadata": {},
   "outputs": [
    {
     "data": {
      "image/svg+xml": [
       "<svg xmlns=\"http://www.w3.org/2000/svg\" xmlns:xlink=\"http://www.w3.org/1999/xlink\" width=\"100.0\" height=\"100.0\" viewBox=\"2.6639999999999997 2.6639999999999997 3.6720000000000006 3.6720000000000006\" preserveAspectRatio=\"xMinYMin meet\"><g transform=\"matrix(1,0,0,-1,0,9.0)\"><path fill-rule=\"evenodd\" fill=\"#66cc99\" stroke=\"#555555\" stroke-width=\"0.07344\" opacity=\"0.6\" d=\"M 2.8585786437626903,5.858578643762691 L 2.8453979093274517,5.873121343167272 L 2.83370607753949,5.8888859533960805 L 2.8236157471303285,5.905720652634802 L 2.815224093497742,5.923463313526983 L 2.808611932853558,5.9419430645491085 L 2.8038429439193537,5.9609819355967755 L 2.8009630546655604,5.980396571934089 L 2.8,6.000000000000001 L 2.800963054665561,6.019603428065913 L 2.803842943919354,6.039018064403226 L 2.8086119328535584,6.058056935450893 L 2.815224093497743,6.076536686473019 L 2.8236157471303294,6.0942793473652 L 2.8337060775394916,6.111114046603921 L 2.845397909327453,6.12687865683273 L 2.8585786437626908,6.14142135623731 L 2.8731213431672713,6.154602090672547 L 2.88888595339608,6.166293922460509 L 2.905720652634801,6.1763842528696715 L 2.923463313526982,6.184775906502257 L 2.9419430645491076,6.191388067146442 L 2.9609819355967746,6.196157056080646 L 2.980396571934088,6.19903694533444 L 3.0,6.2 L 6.0,6.2 L 6.0196034280659125,6.19903694533444 L 6.039018064403225,6.196157056080646 L 6.058056935450892,6.191388067146442 L 6.076536686473018,6.184775906502257 L 6.0942793473652,6.176384252869671 L 6.11111404660392,6.166293922460509 L 6.126878656832729,6.154602090672547 L 6.141421356237309,6.141421356237309 L 6.154602090672547,6.126878656832729 L 6.166293922460509,6.11111404660392 L 6.176384252869671,6.0942793473652 L 6.184775906502257,6.076536686473018 L 6.191388067146442,6.058056935450892 L 6.196157056080646,6.039018064403225 L 6.19903694533444,6.019603428065912 L 6.2,6.0 L 6.2,3.0 L 6.19903694533444,2.9803965719340875 L 6.196157056080646,2.960981935596774 L 6.191388067146442,2.941943064549107 L 6.184775906502257,2.9234633135269816 L 6.176384252869671,2.9057206526348 L 6.166293922460509,2.8888859533960796 L 6.154602090672547,2.873121343167271 L 6.141421356237309,2.8585786437626903 L 6.126878656832729,2.8453979093274526 L 6.11111404660392,2.8337060775394907 L 6.103452455723037,2.829113896690181 L 6.0942793473652,2.823615747130329 L 6.076536686473018,2.8152240934977426 L 6.058056935450892,2.8086119328535584 L 6.039018064403226,2.8038429439193537 L 6.034576230938174,2.8031840601658344 L 6.0196034280659125,2.8009630546655604 L 6.0,2.8 L 5.980396571934088,2.8009630546655604 L 5.960981935596775,2.8038429439193537 L 5.9419430645491085,2.808611932853558 L 5.9366827393819195,2.8104941072943532 L 5.923463313526982,2.8152240934977426 L 5.914843206597949,2.819301100439592 L 5.905720652634801,2.8236157471303285 L 5.898065995320325,2.828203772159865 L 5.88888595339608,2.8337060775394907 L 5.873121343167271,2.8453979093274526 L 5.866599009811629,2.8513094076997376 L 5.858578643762691,2.85857864376269 L 2.8585786437626903,5.858578643762691 z M 5.8,3.482842712474619 L 5.8,5.8 L 3.482842712474619,5.8 L 5.8,3.482842712474619 z\" /></g></svg>"
      ],
      "text/plain": [
       "<shapely.geometry.polygon.Polygon at 0x7f78603a3370>"
      ]
     },
     "execution_count": 23,
     "metadata": {},
     "output_type": "execute_result"
    }
   ],
   "source": [
    "lr2.buffer(0.2)"
   ]
  },
  {
   "cell_type": "code",
   "execution_count": 15,
   "metadata": {},
   "outputs": [
    {
     "data": {
      "image/svg+xml": [
       "<svg xmlns=\"http://www.w3.org/2000/svg\" xmlns:xlink=\"http://www.w3.org/1999/xlink\" width=\"100.0\" height=\"100.0\" viewBox=\"-1.08 -1.08 2.16 2.16\" preserveAspectRatio=\"xMinYMin meet\"><g transform=\"matrix(1,0,0,-1,0,0.0)\"><polyline fill=\"none\" stroke=\"#66cc99\" stroke-width=\"0.0432\" points=\"1.0,0.0 0.9951847266721969,-0.0980171403295605 0.9807852804032305,-0.19509032201612808 0.9569403357322089,-0.2902846772544621 0.923879532511287,-0.3826834323650894 0.8819212643483553,-0.4713967368259972 0.8314696123025456,-0.5555702330196017 0.7730104533627374,-0.6343932841636449 0.7071067811865481,-0.7071067811865469 0.6343932841636463,-0.7730104533627363 0.5555702330196031,-0.8314696123025447 0.4713967368259986,-0.8819212643483545 0.38268343236509084,-0.9238795325112863 0.2902846772544636,-0.9569403357322085 0.19509032201612964,-0.9807852804032302 0.09801714032956209,-0.9951847266721967 1.6155445744325867e-15,-1.0 -0.09801714032955888,-0.995184726672197 -0.19509032201612647,-0.9807852804032308 -0.2902846772544605,-0.9569403357322094 -0.38268343236508784,-0.9238795325112875 -0.4713967368259957,-0.881921264348356 -0.5555702330196005,-0.8314696123025463 -0.6343932841636439,-0.7730104533627382 -0.7071067811865462,-0.7071067811865488 -0.7730104533627359,-0.6343932841636468 -0.8314696123025443,-0.5555702330196036 -0.8819212643483543,-0.47139673682599903 -0.9238795325112862,-0.3826834323650911 -0.9569403357322085,-0.29028467725446366 -0.9807852804032302,-0.19509032201612947 -0.9951847266721968,-0.09801714032956171 -1.0,-1.0106430996148606e-15 -0.9951847266721969,0.0980171403295597 -0.9807852804032307,0.1950903220161275 -0.956940335732209,0.2902846772544617 -0.923879532511287,0.3826834323650892 -0.8819212643483553,0.47139673682599725 -0.8314696123025455,0.555570233019602 -0.7730104533627371,0.6343932841636453 -0.7071067811865477,0.7071067811865475 -0.6343932841636459,0.7730104533627367 -0.555570233019603,0.8314696123025448 -0.4713967368259987,0.8819212643483545 -0.38268343236509117,0.9238795325112862 -0.2902846772544641,0.9569403357322084 -0.1950903220161304,0.98078528040323 -0.0980171403295631,0.9951847266721966 -2.848232278972479e-15,1.0 0.09801714032955743,0.9951847266721972 0.1950903220161248,0.9807852804032311 0.29028467725445867,0.9569403357322099 0.3826834323650859,0.9238795325112884 0.47139673682599365,0.8819212643483572 0.5555702330195982,0.8314696123025479 0.6343932841636415,0.7730104533627402 0.7071067811865436,0.7071067811865515 0.7730104533627332,0.63439328416365 0.8314696123025418,0.5555702330196074 0.8819212643483519,0.4713967368260034 0.9238795325112841,0.38268343236509617 0.9569403357322067,0.29028467725446927 0.980785280403229,0.1950903220161357 0.9951847266721962,0.09801714032956847 1.0,8.238535137130597e-15 1.0,0.0\" opacity=\"0.8\" /></g></svg>"
      ],
      "text/plain": [
       "<shapely.geometry.polygon.LinearRing at 0x7f3535474820>"
      ]
     },
     "execution_count": 15,
     "metadata": {},
     "output_type": "execute_result"
    }
   ],
   "source": [
    "Point(0,0).buffer(1).exterior"
   ]
  },
  {
   "cell_type": "code",
   "execution_count": 5,
   "metadata": {},
   "outputs": [],
   "source": [
    "x = LineString([(1,1),(4,5)])"
   ]
  },
  {
   "cell_type": "code",
   "execution_count": 22,
   "metadata": {},
   "outputs": [],
   "source": [
    "def extend_linestring(line, dis=10):\n",
    "    \n",
    "    p1 = line.coords[0]\n",
    "    p2 = line.coords[1]\n",
    "\n",
    "    dx = p2[0]-p1[0]\n",
    "    dy = p2[1]-p1[1]\n",
    "    \n",
    "    angle = np.arctan2(dy,dx)\n",
    "    \n",
    "    px = np.cos(angle)*dis + p2[0]\n",
    "    py = np.sin(angle)*dis + p2[1]\n",
    "    \n",
    "    return LineString((line.coords[0], (px,py)))"
   ]
  },
  {
   "cell_type": "code",
   "execution_count": 23,
   "metadata": {
    "scrolled": false
   },
   "outputs": [
    {
     "name": "stdout",
     "output_type": "stream",
     "text": [
      "POINT (7.75 10)\n"
     ]
    },
    {
     "data": {
      "image/png": "[encoded data removed]",
      "text/plain": [
       "<Figure size 432x288 with 1 Axes>"
      ]
     },
     "metadata": {
      "needs_background": "light"
     },
     "output_type": "display_data"
    }
   ],
   "source": [
    "print(extend_linestring(x).intersection(lr1))\n",
    "\n",
    "plot_ring(extend_linestring(x))\n",
    "plot_ring(x)\n",
    "pblot_ring(lr1)"
   ]
  },
  {
   "cell_type": "code",
   "execution_count": 29,
   "metadata": {
    "scrolled": false
   },
   "outputs": [
    {
     "name": "stdout",
     "output_type": "stream",
     "text": [
      "LINEARRING (0 0, 0 10, 10 10, 10 0, 0 0)\n"
     ]
    }
   ],
   "source": [
    "print(Polygon(lr1).exterior)"
   ]
  },
  {
   "cell_type": "code",
   "execution_count": 4,
   "metadata": {},
   "outputs": [],
   "source": [
    "def reverse(lr):\n",
    "    \n",
    "    return LinearRing(list(lr.coords)[::-1])\n",
    "    \n",
    "    \n",
    "a    "
   ]
  },
  {
   "cell_type": "code",
   "execution_count": 6,
   "metadata": {
    "scrolled": true
   },
   "outputs": [
    {
     "name": "stdout",
     "output_type": "stream",
     "text": [
      "26.3173315765213\n"
     ]
    },
    {
     "data": {
      "image/png": "[encoded data removed]",
      "text/plain": [
       "<Figure size 432x288 with 1 Axes>"
      ]
     },
     "metadata": {
      "needs_background": "light"
     },
     "output_type": "display_data"
    }
   ],
   "source": [
    "test_pt = Point(6,6)\n",
    "\n",
    "dis = lr3.project(test_pt)\n",
    "\n",
    "\n",
    "print(dis)\n",
    "\n",
    "point = lr3.interpolate(dis)\n",
    "\n",
    "plt.scatter(test_pt.x, test_pt.y)\n",
    "plt.scatter(point.x, point.y)\n",
    "plot_ring(lr3)"
   ]
  },
  {
   "cell_type": "code",
   "execution_count": 7,
   "metadata": {},
   "outputs": [
    {
     "name": "stdout",
     "output_type": "stream",
     "text": [
      "5.9422508216656595\n",
      "1.2998673672393628\n",
      "1.4142135623730951\n"
     ]
    },
    {
     "data": {
      "image/png": "[encoded data removed]",
      "text/plain": [
       "<Figure size 432x288 with 1 Axes>"
      ]
     },
     "metadata": {
      "needs_background": "light"
     },
     "output_type": "display_data"
    }
   ],
   "source": [
    "test_pt = Point(3,6)\n",
    "\n",
    "dis = lr3.project(test_pt)\n",
    "\n",
    "\n",
    "print(dis)\n",
    "\n",
    "point = lr3.interpolate(dis)\n",
    "\n",
    "plt.scatter(test_pt.x, test_pt.y)\n",
    "plt.scatter(point.x, point.y)\n",
    "plot_ring(lr3)\n",
    "\n",
    "\n",
    "print(point.distance(test_pt))\n",
    "\n",
    "print(test_pt.distance(Point(2,5)))"
   ]
  },
  {
   "cell_type": "code",
   "execution_count": 8,
   "metadata": {},
   "outputs": [
    {
     "name": "stdout",
     "output_type": "stream",
     "text": [
      "2.0\n",
      "1.0\n"
     ]
    },
    {
     "data": {
      "image/png": "[encoded data removed]",
      "text/plain": [
       "<Figure size 432x288 with 1 Axes>"
      ]
     },
     "metadata": {
      "needs_background": "light"
     },
     "output_type": "display_data"
    }
   ],
   "source": [
    "test_pt = Point(2,1)\n",
    "\n",
    "rr1 = reverse(lr1)\n",
    "\n",
    "dis = rr1.project(test_pt)\n",
    "\n",
    "\n",
    "print(dis)\n",
    "\n",
    "point = rr1.interpolate(dis)\n",
    "\n",
    "plt.scatter(test_pt.x, test_pt.y)\n",
    "plt.scatter(point.x, point.y)\n",
    "plot_ring(rr1)\n",
    "\n",
    "print(point_dis(test_pt, point))"
   ]
  },
  {
   "cell_type": "code",
   "execution_count": 9,
   "metadata": {
    "scrolled": true
   },
   "outputs": [
    {
     "data": {
      "image/png": "[encoded data removed]",
      "text/plain": [
       "<Figure size 432x288 with 1 Axes>"
      ]
     },
     "metadata": {
      "needs_background": "light"
     },
     "output_type": "display_data"
    }
   ],
   "source": [
    "image = cv2.imread('area_test.png',0)\n",
    "plt.imshow(image)\n",
    "\n",
    "image = image[::1,:]\n",
    "\n",
    "\n",
    "filename = \"Area_test.gcode\"\n",
    "\n",
    "line_dis = 5 # mm"
   ]
  },
  {
   "cell_type": "code",
   "execution_count": 10,
   "metadata": {},
   "outputs": [],
   "source": [
    "# return a list of lists of lines\n",
    "def generate_border_lines(image):\n",
    "\n",
    "    contours,heirarchy = cv2.findContours(image, cv2.RETR_CCOMP, cv2.CHAIN_APPROX_SIMPLE)  \n",
    "\n",
    "    contour_list = []\n",
    "\n",
    "    for contour,heirarchy in zip(contours, heirarchy[0]):\n",
    "        point_list = []\n",
    "        pt0 = None\n",
    "        for point in contour:\n",
    "            point_list.append(tuple(point[0]))\n",
    "            \n",
    "        contour_list.append((point_list, heirarchy))\n",
    "\n",
    "    return contour_list"
   ]
  },
  {
   "cell_type": "code",
   "execution_count": 11,
   "metadata": {},
   "outputs": [],
   "source": [
    "# get all of the children of the parent contour\n",
    "def get_children(contour_list, parent_contour):\n",
    "\n",
    "    child_list = []\n",
    "\n",
    "    first_child_index = parent_contour[1][2]\n",
    "    child = contour_list[first_child_index]\n",
    "    child_list.append(child[0])\n",
    "\n",
    "\n",
    "    # loop while there are more children\n",
    "    while not child[1][0] == -1:\n",
    "        next_child_index = child[1][0]\n",
    "        child = contour_list[next_child_index]\n",
    "        child_list.append(child[0])\n",
    "    \n",
    "    # return the list of children\n",
    "    return child_list"
   ]
  },
  {
   "cell_type": "code",
   "execution_count": 12,
   "metadata": {},
   "outputs": [],
   "source": [
    "# combine contours into single level parent-children relationships\n",
    "def create_contour_families(contour_list):\n",
    "\n",
    "    family_list = []\n",
    "\n",
    "    # find the first parent contour\n",
    "    for contour in contour_list:\n",
    "        \n",
    "        # start with a parent contour\n",
    "        if contour[1][3]==-1:\n",
    "\n",
    "            # if there are no children, create an empty family with only the parent contour\n",
    "            if contour[1][2] == -1:\n",
    "                child_list = []\n",
    "            # otherwise, find all of the children\n",
    "            else:\n",
    "                child_list = get_children(contour_list, contour)\n",
    "\n",
    "            if len(contour[0]) > 2:\n",
    "                family_list.append(Polygon(contour[0], holes=child_list))\n",
    "\n",
    "    return family_list"
   ]
  },
  {
   "cell_type": "code",
   "execution_count": 13,
   "metadata": {},
   "outputs": [],
   "source": [
    "def distance_transform(polygon, distance):\n",
    "        \n",
    "    t = polygon.buffer(distance)\n",
    "    \n",
    "    # if t is empty, return the empty list\n",
    "    if not t:\n",
    "        return []\n",
    "        \n",
    "    result = []\n",
    "\n",
    "    if t.type == \"MultiPolygon\":\n",
    "        for p in t:\n",
    "            result.append([p])\n",
    "            result[-1].extend(distance_transform(p, distance))\n",
    "    else:\n",
    "        result.append(t)\n",
    "        result.extend(distance_transform(t, distance))\n",
    "        \n",
    "        \n",
    "    return result"
   ]
  },
  {
   "cell_type": "code",
   "execution_count": 18,
   "metadata": {},
   "outputs": [
    {
     "name": "stdout",
     "output_type": "stream",
     "text": [
      "([(2, 3), (2, 16), (7, 16), (7, 14), (9, 12), (11, 14), (11, 16), (16, 16), (16, 3), (11, 3), (11, 5), (9, 7), (7, 5), (7, 3)], array([-1, -1, -1, -1], dtype=int32))\n"
     ]
    },
    {
     "ename": "AttributeError",
     "evalue": "'tuple' object has no attribute 'buffer'",
     "output_type": "error",
     "traceback": [
      "\u001b[0;31m---------------------------------------------------------------------------\u001b[0m",
      "\u001b[0;31mAttributeError\u001b[0m                            Traceback (most recent call last)",
      "\u001b[0;32m<ipython-input-18-630298b87434>\u001b[0m in \u001b[0;36m<module>\u001b[0;34m\u001b[0m\n\u001b[1;32m      2\u001b[0m \u001b[0mprint\u001b[0m\u001b[0;34m(\u001b[0m\u001b[0mpolygon\u001b[0m\u001b[0;34m[\u001b[0m\u001b[0;36m0\u001b[0m\u001b[0;34m]\u001b[0m\u001b[0;34m)\u001b[0m\u001b[0;34m\u001b[0m\u001b[0;34m\u001b[0m\u001b[0m\n\u001b[1;32m      3\u001b[0m \u001b[0;34m\u001b[0m\u001b[0m\n\u001b[0;32m----> 4\u001b[0;31m \u001b[0mresult\u001b[0m \u001b[0;34m=\u001b[0m \u001b[0mdistance_transform\u001b[0m\u001b[0;34m(\u001b[0m\u001b[0mpolygon\u001b[0m\u001b[0;34m[\u001b[0m\u001b[0;36m0\u001b[0m\u001b[0;34m]\u001b[0m\u001b[0;34m,\u001b[0m\u001b[0;36m0.3\u001b[0m\u001b[0;34m)\u001b[0m\u001b[0;34m\u001b[0m\u001b[0;34m\u001b[0m\u001b[0m\n\u001b[0m\u001b[1;32m      5\u001b[0m \u001b[0;34m\u001b[0m\u001b[0m\n\u001b[1;32m      6\u001b[0m \u001b[0;34m\u001b[0m\u001b[0m\n",
      "\u001b[0;32m<ipython-input-13-ee5b70269c2f>\u001b[0m in \u001b[0;36mdistance_transform\u001b[0;34m(polygon, distance)\u001b[0m\n\u001b[1;32m      1\u001b[0m \u001b[0;32mdef\u001b[0m \u001b[0mdistance_transform\u001b[0m\u001b[0;34m(\u001b[0m\u001b[0mpolygon\u001b[0m\u001b[0;34m,\u001b[0m \u001b[0mdistance\u001b[0m\u001b[0;34m)\u001b[0m\u001b[0;34m:\u001b[0m\u001b[0;34m\u001b[0m\u001b[0;34m\u001b[0m\u001b[0m\n\u001b[1;32m      2\u001b[0m \u001b[0;34m\u001b[0m\u001b[0m\n\u001b[0;32m----> 3\u001b[0;31m     \u001b[0mt\u001b[0m \u001b[0;34m=\u001b[0m \u001b[0mpolygon\u001b[0m\u001b[0;34m.\u001b[0m\u001b[0mbuffer\u001b[0m\u001b[0;34m(\u001b[0m\u001b[0mdistance\u001b[0m\u001b[0;34m)\u001b[0m\u001b[0;34m\u001b[0m\u001b[0;34m\u001b[0m\u001b[0m\n\u001b[0m\u001b[1;32m      4\u001b[0m \u001b[0;34m\u001b[0m\u001b[0m\n\u001b[1;32m      5\u001b[0m     \u001b[0;31m# if t is empty, return the empty list\u001b[0m\u001b[0;34m\u001b[0m\u001b[0;34m\u001b[0m\u001b[0;34m\u001b[0m\u001b[0m\n",
      "\u001b[0;31mAttributeError\u001b[0m: 'tuple' object has no attribute 'buffer'"
     ]
    }
   ],
   "source": [
    "\n",
    "polygon = generate_border_lines(image)\n",
    "print(polygon[0])\n",
    "\n",
    "result = distance_transform(polygon[0],0.3)\n",
    "\n",
    "\n"
   ]
  }
 ],
 "metadata": {
  "kernelspec": {
   "display_name": "Python 3",
   "language": "python",
   "name": "python3"
  },
  "language_info": {
   "codemirror_mode": {
    "name": "ipython",
    "version": 3
   },
   "file_extension": ".py",
   "mimetype": "text/x-python",
   "name": "python",
   "nbconvert_exporter": "python",
   "pygments_lexer": "ipython3",
   "version": "3.7.3"
  }
 },
 "nbformat": 4,
 "nbformat_minor": 4
}
