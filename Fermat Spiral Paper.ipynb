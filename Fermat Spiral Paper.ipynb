{
 "cells": [
  {
   "cell_type": "code",
   "execution_count": 1,
   "metadata": {},
   "outputs": [
    {
     "data": {
      "text/html": [
       "<style>.container { width:100% !important; }</style>"
      ],
      "text/plain": [
       "<IPython.core.display.HTML object>"
      ]
     },
     "metadata": {},
     "output_type": "display_data"
    },
    {
     "ename": "ModuleNotFoundError",
     "evalue": "No module named 'cvxpy'",
     "output_type": "error",
     "traceback": [
      "\u001b[0;31m---------------------------------------------------------------------------\u001b[0m",
      "\u001b[0;31mModuleNotFoundError\u001b[0m                       Traceback (most recent call last)",
      "\u001b[0;32m/tmp/ipykernel_10491/507977111.py\u001b[0m in \u001b[0;36m<module>\u001b[0;34m\u001b[0m\n\u001b[1;32m     22\u001b[0m '''\n\u001b[1;32m     23\u001b[0m \u001b[0;31m# import utility functions\u001b[0m\u001b[0;34m\u001b[0m\u001b[0;34m\u001b[0m\u001b[0;34m\u001b[0m\u001b[0m\n\u001b[0;32m---> 24\u001b[0;31m \u001b[0;32mfrom\u001b[0m \u001b[0mshapely_conversion\u001b[0m \u001b[0;32mimport\u001b[0m \u001b[0mconvert\u001b[0m\u001b[0;34m\u001b[0m\u001b[0;34m\u001b[0m\u001b[0m\n\u001b[0m\u001b[1;32m     25\u001b[0m \u001b[0;32mfrom\u001b[0m \u001b[0mshapely_utilities\u001b[0m \u001b[0;32mimport\u001b[0m \u001b[0;34m*\u001b[0m\u001b[0;34m\u001b[0m\u001b[0;34m\u001b[0m\u001b[0m\n\u001b[1;32m     26\u001b[0m \u001b[0;34m\u001b[0m\u001b[0m\n",
      "\u001b[0;32m~/Programs/Fermat-Spirals/shapely_conversion.py\u001b[0m in \u001b[0;36m<module>\u001b[0;34m\u001b[0m\n\u001b[1;32m      8\u001b[0m \u001b[0;34m\u001b[0m\u001b[0m\n\u001b[1;32m      9\u001b[0m \u001b[0;32mfrom\u001b[0m \u001b[0mshapely\u001b[0m\u001b[0;34m.\u001b[0m\u001b[0mgeometry\u001b[0m \u001b[0;32mimport\u001b[0m \u001b[0mPolygon\u001b[0m\u001b[0;34m\u001b[0m\u001b[0;34m\u001b[0m\u001b[0m\n\u001b[0;32m---> 10\u001b[0;31m \u001b[0;32mfrom\u001b[0m \u001b[0moptimization\u001b[0m \u001b[0;32mimport\u001b[0m \u001b[0moptimize_polygon\u001b[0m\u001b[0;34m\u001b[0m\u001b[0;34m\u001b[0m\u001b[0m\n\u001b[0m\u001b[1;32m     11\u001b[0m \u001b[0;34m\u001b[0m\u001b[0m\n\u001b[1;32m     12\u001b[0m '''\n",
      "\u001b[0;32m~/Programs/Fermat-Spirals/optimization.py\u001b[0m in \u001b[0;36m<module>\u001b[0;34m\u001b[0m\n\u001b[1;32m      4\u001b[0m \u001b[0;31m# if you are having problem with numpy version (https://github.com/cvxgrp/cvxpy/issues/1229)\u001b[0m\u001b[0;34m\u001b[0m\u001b[0;34m\u001b[0m\u001b[0;34m\u001b[0m\u001b[0m\n\u001b[1;32m      5\u001b[0m \u001b[0;31m# I would suggest you to manually install cvxpy via their source code as this is essentially a pip problem\u001b[0m\u001b[0;34m\u001b[0m\u001b[0;34m\u001b[0m\u001b[0;34m\u001b[0m\u001b[0m\n\u001b[0;32m----> 6\u001b[0;31m \u001b[0;32mimport\u001b[0m \u001b[0mcvxpy\u001b[0m \u001b[0;32mas\u001b[0m \u001b[0mcp\u001b[0m\u001b[0;34m\u001b[0m\u001b[0;34m\u001b[0m\u001b[0m\n\u001b[0m\u001b[1;32m      7\u001b[0m \u001b[0;34m\u001b[0m\u001b[0m\n\u001b[1;32m      8\u001b[0m \u001b[0;32mfrom\u001b[0m \u001b[0mshapely\u001b[0m\u001b[0;34m.\u001b[0m\u001b[0mgeometry\u001b[0m \u001b[0;32mimport\u001b[0m \u001b[0mPoint\u001b[0m\u001b[0;34m\u001b[0m\u001b[0;34m\u001b[0m\u001b[0m\n",
      "\u001b[0;31mModuleNotFoundError\u001b[0m: No module named 'cvxpy'"
     ]
    }
   ],
   "source": [
    "# plotting\n",
    "import matplotlib.pyplot as plt\n",
    "\n",
    "# image processing\n",
    "import cv2\n",
    "\n",
    "# opening files and paths\n",
    "import os\n",
    "\n",
    "import time\n",
    "\n",
    "%reload_ext autoreload\n",
    "%autoreload 2\n",
    "\n",
    "from IPython.core.display import display, HTML\n",
    "display(HTML(\"<style>.container { width:100% !important; }</style>\"))\n",
    "\n",
    "from shapely.geometry import CAP_STYLE, JOIN_STYLE\n",
    "\n",
    "'''\n",
    "CUSTOM MODULES\n",
    "'''\n",
    "# import utility functions\n",
    "from shapely_conversion import convert\n",
    "from shapely_utilities import *\n",
    "\n",
    "# import spiral generation\n",
    "import spiral as S\n",
    "import fermat_spiral as FS\n",
    "\n",
    "# optimization module\n",
    "from optimization import optimization"
   ]
  },
  {
   "cell_type": "code",
   "execution_count": null,
   "metadata": {},
   "outputs": [],
   "source": [
    "'''\n",
    "Plot a single path\n",
    "'''\n",
    "def plot_path(path, color=None):\n",
    "    \n",
    "    X = []\n",
    "    Y = []\n",
    "\n",
    "    for p in path:\n",
    "        X.append(p[0])\n",
    "        Y.append(p[1])\n",
    "        \n",
    "    plt.plot(X,Y,c=color)\n",
    "\n",
    "\n",
    "'''\n",
    "Plot a list of paths\n",
    "'''\n",
    "def plot_recursive_path(total_path, color=None, endpoints=False, intersections=False):\n",
    "    \n",
    "    rest = []\n",
    "    \n",
    "    for path in total_path:\n",
    "        \n",
    "        if type(path) is list:\n",
    "            plot_path(path, color)\n",
    "            if intersections:\n",
    "                for i in self_intersections_binary(LineString(path)):\n",
    "                    pyplot.scatter(i.x,i.y, c='red')\n",
    "                \n",
    "        else:\n",
    "            rest.append(path)\n",
    "            \n",
    "    plot_path(rest, color)"
   ]
  },
  {
   "cell_type": "code",
   "execution_count": null,
   "metadata": {},
   "outputs": [],
   "source": [
    "%%time\n",
    "%matplotlib notebook\n",
    "'''\n",
    "This cell runs the complete pipeline from image to CFS output\n",
    "'''\n",
    "\n",
    "# distance in between each contour\n",
    "distance = 5\n",
    "\n",
    "# filename of image to process\n",
    "filename = 'files/wolf.png'\n",
    "\n",
    "# image should be in binary format\n",
    "image = cv2.imread(filename,0)\n",
    "\n",
    "print(not image is None)\n",
    "\n",
    "polygons = convert(image, approximation = cv2.CHAIN_APPROX_SIMPLE, optimize=True, simplify=1)\n",
    "\n",
    "results = FS.execute(polygons, distance, connected=True, boundaries=0)\n",
    "\n",
    "plot_recursive_path(results, intersections=True)\n",
    "\n",
    "plt.gca().invert_yaxis()\n"
   ]
  },
  {
   "cell_type": "code",
   "execution_count": null,
   "metadata": {},
   "outputs": [],
   "source": [
    "from metrics import Metrics\n",
    "\n",
    "measurer = Metrics(segments=True, commands=True, curvature=False, underfill=True, overfill=True)"
   ]
  },
  {
   "cell_type": "code",
   "execution_count": null,
   "metadata": {},
   "outputs": [],
   "source": [
    "'''\n",
    "Test different fills\n",
    "'''\n",
    "\n",
    "%matplotlib inline\n",
    "\n",
    "metrics = []\n",
    "\n",
    "# filename of image to process\n",
    "filename = 'files/penguin.png'\n",
    "\n",
    "# image should be in binary format\n",
    "image = cv2.imread(filename,0)\n",
    "\n",
    "print(not image is None)\n",
    "\n",
    "polygons = generate_polygons(image, True, simplify=1)\n",
    "\n",
    "for i in range(1,10):\n",
    "    print(i)\n",
    "    results = FS.execute(polygons, i, connected=True)\n",
    "    plot_recursive_path(results)\n",
    "    pyplot.show()\n",
    "    metrics.append(measurer.measure(results, \"CFS\", i, polygons))"
   ]
  },
  {
   "cell_type": "code",
   "execution_count": null,
   "metadata": {},
   "outputs": [],
   "source": [
    "'''\n",
    "Converting results to dataframe\n",
    "'''\n",
    "import pandas as pd\n",
    "\n",
    "data = pd.DataFrame(metrics)\n",
    "\n",
    "data[\"Underfill\"] *= 100\n",
    "data[\"Overfill\"] *= 100\n",
    "\n",
    "data"
   ]
  },
  {
   "cell_type": "code",
   "execution_count": null,
   "metadata": {},
   "outputs": [],
   "source": [
    "'''\n",
    "Display the underfill areas (sanity check)\n",
    "'''\n",
    "\n",
    "from shapely.geometry import MultiPolygon\n",
    "\n",
    "path_areas = [LineString(path).buffer(9/2+0.000001) for path in results]\n",
    "MultiPolygon(polygons).difference(MultiPolygon(path_areas))"
   ]
  },
  {
   "cell_type": "code",
   "execution_count": null,
   "metadata": {},
   "outputs": [],
   "source": [
    "# helper function to display the format of the \"result\" tree\n",
    "# - the \"result\" tree is the representation of the distance transform \n",
    "# - EX: A tree of \"['X','X','X', ['X',['X','X'], ['X']], ['X']]\" has...\n",
    "# 1. Three successive outer contours (no branches)\n",
    "# 2. A branch with a single contour with a depth-2 branch and a depth-1 branch\n",
    "# 3. A branch with a single contour\n",
    "\n",
    "# TODO there is probably a better way to set up the trees in this scenario\n",
    "def simplify_tree(result):\n",
    "    \n",
    "    root = []\n",
    "    output = []\n",
    "    for b in result:\n",
    "        if type(b) is list:\n",
    "            \n",
    "            if not b:\n",
    "                print(\"EMPTY!\")\n",
    "            output.append(simplify_tree(b))\n",
    "            \n",
    "    return [\"X\"] + output"
   ]
  }
 ],
 "metadata": {
  "kernelspec": {
   "display_name": "Python 3 (ipykernel)",
   "language": "python",
   "name": "python3"
  },
  "language_info": {
   "codemirror_mode": {
    "name": "ipython",
    "version": 3
   },
   "file_extension": ".py",
   "mimetype": "text/x-python",
   "name": "python",
   "nbconvert_exporter": "python",
   "pygments_lexer": "ipython3",
   "version": "3.8.10"
  }
 },
 "nbformat": 4,
 "nbformat_minor": 4
}
